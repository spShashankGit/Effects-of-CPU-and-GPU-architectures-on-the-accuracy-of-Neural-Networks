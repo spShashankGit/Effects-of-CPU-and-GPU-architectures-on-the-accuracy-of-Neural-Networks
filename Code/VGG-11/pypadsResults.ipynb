{
 "cells": [
  {
   "cell_type": "code",
   "execution_count": 1,
   "metadata": {},
   "outputs": [],
   "source": [
    "from pypads.app import base, results\n",
    "import pandas as pd\n",
    "import numpy as np\n",
    "import os\n",
    "import json"
   ]
  },
  {
   "cell_type": "code",
   "execution_count": 2,
   "metadata": {},
   "outputs": [],
   "source": [
    "#load from .env file\n",
    "os.environ['MONGO_DB'] = \"pypads\"\n",
    "\n",
    "os.environ['MONGO_USER'] = \"pypads\"\n",
    "\n",
    "os.environ['MONGO_URL'] = \"mongodb://www.padre-lab.eu:2222\"\n",
    "\n",
    "os.environ['MONGO_PW'] = \"8CN7OqknwhYr3RO\""
   ]
  },
  {
   "cell_type": "code",
   "execution_count": 10,
   "metadata": {},
   "outputs": [],
   "source": [
    "#tracker = base.PyPads(autostart=True)\n",
    "#obj1 = results.PyPadsResults()"
   ]
  },
  {
   "cell_type": "code",
   "execution_count": 11,
   "metadata": {},
   "outputs": [
    {
     "name": "stdout",
     "output_type": "stream",
     "text": [
      "Exp details <Experiment: artifact_location='/home/rgb/.pypads/.mlruns/7', experiment_id='7', lifecycle_stage='active', name='Effect of GPUs - Logistic map', tags={}>\n"
     ]
    }
   ],
   "source": [
    "res = obj1.get_experiment(experiment_name=\"Effect of GPUs - Logistic map\")\n",
    "print('Exp details', res)"
   ]
  },
  {
   "cell_type": "code",
   "execution_count": 12,
   "metadata": {},
   "outputs": [
    {
     "name": "stdout",
     "output_type": "stream",
     "text": [
      "Output                                                               tag_pypads.git.branch  \\\n",
      "16fcf2bdad1a4793b9e71c7425bb7424  backend_uri='/home/rgb/.pypads/.mlruns' clazz=...   \n",
      "aff5a5e423914401857a3863f0f86d75  backend_uri='/home/rgb/.pypads/.mlruns' clazz=...   \n",
      "\n",
      "                                                            tag_pypads.git.describe  \\\n",
      "16fcf2bdad1a4793b9e71c7425bb7424  backend_uri='/home/rgb/.pypads/.mlruns' clazz=...   \n",
      "aff5a5e423914401857a3863f0f86d75  backend_uri='/home/rgb/.pypads/.mlruns' clazz=...   \n",
      "\n",
      "                                                         tag_pypads.git.description  \\\n",
      "16fcf2bdad1a4793b9e71c7425bb7424  backend_uri='/home/rgb/.pypads/.mlruns' clazz=...   \n",
      "aff5a5e423914401857a3863f0f86d75  backend_uri='/home/rgb/.pypads/.mlruns' clazz=...   \n",
      "\n",
      "                                                             tag_pypads.git.remotes  \\\n",
      "16fcf2bdad1a4793b9e71c7425bb7424  backend_uri='/home/rgb/.pypads/.mlruns' clazz=...   \n",
      "aff5a5e423914401857a3863f0f86d75  backend_uri='/home/rgb/.pypads/.mlruns' clazz=...   \n",
      "\n",
      "                                                 tag_pypads.git.uncommitted_changes  \\\n",
      "16fcf2bdad1a4793b9e71c7425bb7424  backend_uri='/home/rgb/.pypads/.mlruns' clazz=...   \n",
      "aff5a5e423914401857a3863f0f86d75  backend_uri='/home/rgb/.pypads/.mlruns' clazz=...   \n",
      "\n",
      "                                                  tag_pypads.source.git.commit_hash  \n",
      "16fcf2bdad1a4793b9e71c7425bb7424  backend_uri='/home/rgb/.pypads/.mlruns' clazz=...  \n",
      "aff5a5e423914401857a3863f0f86d75  backend_uri='/home/rgb/.pypads/.mlruns' clazz=...  \n"
     ]
    }
   ],
   "source": [
    "#experiment_ids='7'\n",
    "\n",
    "res2 = obj1.get_experiments_data_frame(experiment_names=\"Effect of GPUs - Logistic map\")\n",
    "print('Output', res2)\n"
   ]
  },
  {
   "cell_type": "code",
   "execution_count": 13,
   "metadata": {},
   "outputs": [
    {
     "name": "stdout",
     "output_type": "stream",
     "text": [
      "DF                                                                tag_pypads.git.branch  \\\n",
      "16fcf2bdad1a4793b9e71c7425bb7424  backend_uri='/home/rgb/.pypads/.mlruns' clazz=...   \n",
      "aff5a5e423914401857a3863f0f86d75  backend_uri='/home/rgb/.pypads/.mlruns' clazz=...   \n",
      "\n",
      "                                                            tag_pypads.git.describe  \\\n",
      "16fcf2bdad1a4793b9e71c7425bb7424  backend_uri='/home/rgb/.pypads/.mlruns' clazz=...   \n",
      "aff5a5e423914401857a3863f0f86d75  backend_uri='/home/rgb/.pypads/.mlruns' clazz=...   \n",
      "\n",
      "                                                         tag_pypads.git.description  \\\n",
      "16fcf2bdad1a4793b9e71c7425bb7424  backend_uri='/home/rgb/.pypads/.mlruns' clazz=...   \n",
      "aff5a5e423914401857a3863f0f86d75  backend_uri='/home/rgb/.pypads/.mlruns' clazz=...   \n",
      "\n",
      "                                                             tag_pypads.git.remotes  \\\n",
      "16fcf2bdad1a4793b9e71c7425bb7424  backend_uri='/home/rgb/.pypads/.mlruns' clazz=...   \n",
      "aff5a5e423914401857a3863f0f86d75  backend_uri='/home/rgb/.pypads/.mlruns' clazz=...   \n",
      "\n",
      "                                                 tag_pypads.git.uncommitted_changes  \\\n",
      "16fcf2bdad1a4793b9e71c7425bb7424  backend_uri='/home/rgb/.pypads/.mlruns' clazz=...   \n",
      "aff5a5e423914401857a3863f0f86d75  backend_uri='/home/rgb/.pypads/.mlruns' clazz=...   \n",
      "\n",
      "                                                  tag_pypads.source.git.commit_hash  \n",
      "16fcf2bdad1a4793b9e71c7425bb7424  backend_uri='/home/rgb/.pypads/.mlruns' clazz=...  \n",
      "aff5a5e423914401857a3863f0f86d75  backend_uri='/home/rgb/.pypads/.mlruns' clazz=...  \n"
     ]
    }
   ],
   "source": [
    "df = pd.DataFrame(res2)\n",
    "print('DF ', df)"
   ]
  },
  {
   "cell_type": "code",
   "execution_count": 9,
   "metadata": {},
   "outputs": [
    {
     "name": "stdout",
     "output_type": "stream",
     "text": [
      "Output Empty DataFrame\n",
      "Columns: []\n",
      "Index: []\n"
     ]
    }
   ],
   "source": [
    "#Effects of HW and SW\n",
    "res3 = obj1.get_experiments_data_frame(experiment_names=\"Effects of HW and SW\")\n",
    "print('Output', res3)"
   ]
  },
  {
   "cell_type": "code",
   "execution_count": null,
   "metadata": {},
   "outputs": [],
   "source": []
  }
 ],
 "metadata": {
  "kernelspec": {
   "display_name": "thesisTestEnv2",
   "language": "python",
   "name": "thesistestenv2"
  },
  "language_info": {
   "codemirror_mode": {
    "name": "ipython",
    "version": 3
   },
   "file_extension": ".py",
   "mimetype": "text/x-python",
   "name": "python",
   "nbconvert_exporter": "python",
   "pygments_lexer": "ipython3",
   "version": "3.8.8"
  }
 },
 "nbformat": 4,
 "nbformat_minor": 4
}
