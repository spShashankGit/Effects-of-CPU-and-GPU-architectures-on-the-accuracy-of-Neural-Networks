from datetime import datetime
begin_time = datetime.now()     

# CIFAR 10 dataset - Numpy
import os
import platform
import pickle

import numpy as np
from numpy import asarray
from numpy import save
from numpy import load

import torch  
import torch.nn as nn
import torch.optim as optim