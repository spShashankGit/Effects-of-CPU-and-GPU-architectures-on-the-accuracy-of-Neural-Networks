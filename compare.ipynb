{
 "cells": [
  {
   "cell_type": "code",
   "execution_count": 48,
   "metadata": {},
   "outputs": [],
   "source": [
    "import pandas as pd\n",
    "import os"
   ]
  },
  {
   "cell_type": "code",
   "execution_count": 2,
   "metadata": {},
   "outputs": [],
   "source": [
    "class bcolors:\n",
    "    HEADER = '\\033[95m'\n",
    "    OKBLUE = '\\033[94m'\n",
    "    OKCYAN = '\\033[96m'\n",
    "    OKGREEN = '\\033[92m'\n",
    "    WARNING = '\\033[93m'\n",
    "    FAIL = '\\033[91m'\n",
    "    ENDC = '\\033[0m'\n",
    "    BOLD = '\\033[1m'\n",
    "    UNDERLINE = '\\033[4m'"
   ]
  },
  {
   "cell_type": "code",
   "execution_count": 3,
   "metadata": {},
   "outputs": [],
   "source": [
    "# reading files\n",
    "f1 = open(\"/root/Experiment/effects-of-cpu-and-gpu-architectures-on-the-accuracy-of-neural-networks/requirements_gpuInfoLogger1.txt\", \"r\")  \n",
    "f2 = open(\"/root/Experiment/effects-of-cpu-and-gpu-architectures-on-the-accuracy-of-neural-networks/pipFreeze.txt\", \"r\")  "
   ]
  },
  {
   "cell_type": "code",
   "execution_count": 4,
   "metadata": {},
   "outputs": [],
   "source": [
    "def createDictionaryObject(fileName):\n",
    "    i = 0\n",
    "    packageList=[]\n",
    "    for fileLine in fileName:\n",
    "        tmpHolder = fileLine.split('==')\n",
    "        if(len(tmpHolder)>1):\n",
    "            tmpDict=[]\n",
    "            tmpDict.append(str.strip(tmpHolder[0]))\n",
    "            tmpDict.append(str.strip(tmpHolder[1]))\n",
    "            packageList.append(tmpDict)\n",
    "            i += 1  \n",
    "    return packageList"
   ]
  },
  {
   "cell_type": "code",
   "execution_count": 5,
   "metadata": {},
   "outputs": [],
   "source": [
    "refDict = createDictionaryObject(f1)\n",
    "underVeriDict = createDictionaryObject(f2)"
   ]
  },
  {
   "cell_type": "code",
   "execution_count": 6,
   "metadata": {},
   "outputs": [],
   "source": [
    "# Converting data dictionary to data frame\n",
    "refDict = pd.DataFrame(refDict)\n",
    "underVeriDict = pd.DataFrame(underVeriDict)"
   ]
  },
  {
   "cell_type": "code",
   "execution_count": 7,
   "metadata": {},
   "outputs": [
    {
     "data": {
      "text/plain": [
       "2"
      ]
     },
     "execution_count": 7,
     "metadata": {},
     "output_type": "execute_result"
    }
   ],
   "source": [
    "try:\n",
    "    packageIndex = list(refDict[0]).index('appdirs',0)\n",
    "except ValueError:\n",
    "    packageIndex = -1\n",
    "\n",
    "packageIndex"
   ]
  },
  {
   "cell_type": "code",
   "execution_count": 8,
   "metadata": {},
   "outputs": [],
   "source": [
    "for j in range(len(underVeriDict)):\n",
    "    try:\n",
    "        packageIndex = list(refDict[0]).index(underVeriDict[0][j],0)\n",
    "    except ValueError:\n",
    "        packageIndex = -1"
   ]
  },
  {
   "cell_type": "code",
   "execution_count": 9,
   "metadata": {},
   "outputs": [
    {
     "data": {
      "text/plain": [
       "152"
      ]
     },
     "execution_count": 9,
     "metadata": {},
     "output_type": "execute_result"
    }
   ],
   "source": [
    "packageIndex"
   ]
  },
  {
   "cell_type": "code",
   "execution_count": 23,
   "metadata": {},
   "outputs": [],
   "source": [
    "compatiblePackages = []\n",
    "conflictingPackages = []\n",
    "packageNotFound = []\n",
    "\n",
    "for j in range(len(underVeriDict)):\n",
    "    try:\n",
    "        packageIndex = list(refDict[0]).index(underVeriDict[0][j],0)\n",
    "    except ValueError:\n",
    "        packageIndex = -1\n",
    "\n",
    "    if(packageIndex == -1):\n",
    "        packageNotFound.append([underVeriDict[0][j],underVeriDict[1][j]])\n",
    "    else:\n",
    "        #check if the version is same\n",
    "        \n",
    "        #if same append it to the compatiblePackages \n",
    "        if(refDict[1][packageIndex]==underVeriDict[1][j]):\n",
    "            #print('Same version ', underVeriDict[0][j], \"\\t\",underVeriDict[1][j])\n",
    "            compatiblePackages.append(underVeriDict[0][j])\n",
    "\n",
    "        elif(refDict[1][packageIndex]!=underVeriDict[1][j]):\n",
    "            conflictingPackages.append([underVeriDict[0][j],refDict[1][packageIndex],underVeriDict[1][j]])\n",
    "\n",
    "        #if not append it to conflictingPackages and also mention the difference in the driver versions\n",
    "        #before ending the code, print - compatible, conflicting and not found packages\n",
    "        "
   ]
  },
  {
   "cell_type": "code",
   "execution_count": 24,
   "metadata": {},
   "outputs": [
    {
     "name": "stdout",
     "output_type": "stream",
     "text": [
      "Total 58 packages matches with the requirement\n"
     ]
    }
   ],
   "source": [
    "print(\"Total\", len(compatiblePackages), \"packages matches with the requirement\")"
   ]
  },
  {
   "cell_type": "code",
   "execution_count": 25,
   "metadata": {},
   "outputs": [
    {
     "name": "stdout",
     "output_type": "stream",
     "text": [
      "\u001b[93mWarning: total 5 packages did not match with the requirement\n",
      "\u001b[93mPackage Name \t\t Expected Version \t\t Actual Version\n",
      "numpy                    1.19.2                          1.20.3\n",
      "pip                      21.0.1                          21.1.1\n",
      "pydantic                 1.6.1                           1.8.2\n",
      "setuptools               52.0.0                          56.2.0\n",
      "six                      1.15.0                          1.16.0\n"
     ]
    }
   ],
   "source": [
    "print(f\"{bcolors.WARNING}Warning: total\", len(conflictingPackages), \"packages did not match with the requirement\")\n",
    "print(f\"{bcolors.WARNING}Package Name \\t\\t Expected Version \\t\\t Actual Version\")\n",
    "for i in conflictingPackages:\n",
    "    print(\"%-*s  %-*s  %s\"%((23,i[0], 30,i[1], i[2])))"
   ]
  },
  {
   "cell_type": "code",
   "execution_count": null,
   "metadata": {},
   "outputs": [],
   "source": [
    "print(f\"{bcolors.FAIL}Warning: total\", len(packageNotFound), \"packages were found on the local machine but are not on the reference list\")\n",
    "print(f\"\\n{bcolors.FAIL}Package Name \\t\\t\\t\\t\\t   Version\")\n",
    "for i in packageNotFound:\n",
    "    print(\"%-*s %-*s\"%((50,i[0],20,i[1])))"
   ]
  },
  {
   "cell_type": "code",
   "execution_count": 60,
   "metadata": {},
   "outputs": [
    {
     "name": "stdout",
     "output_type": "stream",
     "text": [
      "Reinstalling....\n",
      " numpy version 1.19.2\n"
     ]
    },
    {
     "ename": "RuntimeError",
     "evalue": "command '['/opt/conda/envs/thesisEnv4/bin/python', '-m', 'pip', 'install', 'takemetochurch']' return with error (code 1): None",
     "output_type": "error",
     "traceback": [
      "\u001b[0;31m---------------------------------------------------------------------------\u001b[0m",
      "\u001b[0;31mCalledProcessError\u001b[0m                        Traceback (most recent call last)",
      "\u001b[0;32m<ipython-input-60-51c33d0dfec8>\u001b[0m in \u001b[0;36minstall\u001b[0;34m(package, version)\u001b[0m\n\u001b[1;32m      5\u001b[0m     \u001b[0;32mtry\u001b[0m\u001b[0;34m:\u001b[0m\u001b[0;34m\u001b[0m\u001b[0;34m\u001b[0m\u001b[0m\n\u001b[0;32m----> 6\u001b[0;31m         \u001b[0msubprocess\u001b[0m\u001b[0;34m.\u001b[0m\u001b[0mcheck_call\u001b[0m\u001b[0;34m(\u001b[0m\u001b[0;34m[\u001b[0m\u001b[0msys\u001b[0m\u001b[0;34m.\u001b[0m\u001b[0mexecutable\u001b[0m\u001b[0;34m,\u001b[0m \u001b[0;34m\"-m\"\u001b[0m\u001b[0;34m,\u001b[0m \u001b[0;34m\"pip\"\u001b[0m\u001b[0;34m,\u001b[0m \u001b[0;34m\"install\"\u001b[0m\u001b[0;34m,\u001b[0m \u001b[0mpackage\u001b[0m\u001b[0;34m]\u001b[0m\u001b[0;34m)\u001b[0m\u001b[0;34m\u001b[0m\u001b[0;34m\u001b[0m\u001b[0m\n\u001b[0m\u001b[1;32m      7\u001b[0m \u001b[0;34m\u001b[0m\u001b[0m\n",
      "\u001b[0;32m/opt/conda/envs/thesisEnv4/lib/python3.8/subprocess.py\u001b[0m in \u001b[0;36mcheck_call\u001b[0;34m(*popenargs, **kwargs)\u001b[0m\n\u001b[1;32m    363\u001b[0m             \u001b[0mcmd\u001b[0m \u001b[0;34m=\u001b[0m \u001b[0mpopenargs\u001b[0m\u001b[0;34m[\u001b[0m\u001b[0;36m0\u001b[0m\u001b[0;34m]\u001b[0m\u001b[0;34m\u001b[0m\u001b[0;34m\u001b[0m\u001b[0m\n\u001b[0;32m--> 364\u001b[0;31m         \u001b[0;32mraise\u001b[0m \u001b[0mCalledProcessError\u001b[0m\u001b[0;34m(\u001b[0m\u001b[0mretcode\u001b[0m\u001b[0;34m,\u001b[0m \u001b[0mcmd\u001b[0m\u001b[0;34m)\u001b[0m\u001b[0;34m\u001b[0m\u001b[0;34m\u001b[0m\u001b[0m\n\u001b[0m\u001b[1;32m    365\u001b[0m     \u001b[0;32mreturn\u001b[0m \u001b[0;36m0\u001b[0m\u001b[0;34m\u001b[0m\u001b[0;34m\u001b[0m\u001b[0m\n",
      "\u001b[0;31mCalledProcessError\u001b[0m: Command '['/opt/conda/envs/thesisEnv4/bin/python', '-m', 'pip', 'install', 'takemetochurch']' returned non-zero exit status 1.",
      "\nDuring handling of the above exception, another exception occurred:\n",
      "\u001b[0;31mRuntimeError\u001b[0m                              Traceback (most recent call last)",
      "\u001b[0;32m<ipython-input-60-51c33d0dfec8>\u001b[0m in \u001b[0;36m<module>\u001b[0;34m\u001b[0m\n\u001b[1;32m     17\u001b[0m     \u001b[0mcreatePipCommand\u001b[0m \u001b[0;34m=\u001b[0m \u001b[0;34m\"python3 -m pip install \"\u001b[0m\u001b[0;34m+\u001b[0m\u001b[0mi\u001b[0m\u001b[0;34m[\u001b[0m\u001b[0;36m0\u001b[0m\u001b[0;34m]\u001b[0m\u001b[0;34m+\u001b[0m\u001b[0;34m\"=\"\u001b[0m\u001b[0;34m+\u001b[0m\u001b[0mi\u001b[0m\u001b[0;34m[\u001b[0m\u001b[0;36m1\u001b[0m\u001b[0;34m]\u001b[0m\u001b[0;34m\u001b[0m\u001b[0;34m\u001b[0m\u001b[0m\n\u001b[1;32m     18\u001b[0m     \u001b[0;31m#os.system('ls -l')\u001b[0m\u001b[0;34m\u001b[0m\u001b[0;34m\u001b[0m\u001b[0;34m\u001b[0m\u001b[0m\n\u001b[0;32m---> 19\u001b[0;31m     \u001b[0minstall\u001b[0m\u001b[0;34m(\u001b[0m\u001b[0;34m\"takemetochurch\"\u001b[0m\u001b[0;34m,\u001b[0m\u001b[0mi\u001b[0m\u001b[0;34m[\u001b[0m\u001b[0;36m1\u001b[0m\u001b[0;34m]\u001b[0m\u001b[0;34m)\u001b[0m\u001b[0;34m\u001b[0m\u001b[0;34m\u001b[0m\u001b[0m\n\u001b[0m\u001b[1;32m     20\u001b[0m \u001b[0;34m\u001b[0m\u001b[0m\n",
      "\u001b[0;32m<ipython-input-60-51c33d0dfec8>\u001b[0m in \u001b[0;36minstall\u001b[0;34m(package, version)\u001b[0m\n\u001b[1;32m      7\u001b[0m \u001b[0;34m\u001b[0m\u001b[0m\n\u001b[1;32m      8\u001b[0m     \u001b[0;32mexcept\u001b[0m \u001b[0msubprocess\u001b[0m\u001b[0;34m.\u001b[0m\u001b[0mCalledProcessError\u001b[0m \u001b[0;32mas\u001b[0m \u001b[0me\u001b[0m\u001b[0;34m:\u001b[0m\u001b[0;34m\u001b[0m\u001b[0;34m\u001b[0m\u001b[0m\n\u001b[0;32m----> 9\u001b[0;31m         \u001b[0;32mraise\u001b[0m \u001b[0mRuntimeError\u001b[0m\u001b[0;34m(\u001b[0m\u001b[0;34m\"command '{}' return with error (code {}): {}\"\u001b[0m\u001b[0;34m.\u001b[0m\u001b[0mformat\u001b[0m\u001b[0;34m(\u001b[0m\u001b[0me\u001b[0m\u001b[0;34m.\u001b[0m\u001b[0mcmd\u001b[0m\u001b[0;34m,\u001b[0m \u001b[0me\u001b[0m\u001b[0;34m.\u001b[0m\u001b[0mreturncode\u001b[0m\u001b[0;34m,\u001b[0m \u001b[0me\u001b[0m\u001b[0;34m.\u001b[0m\u001b[0moutput\u001b[0m\u001b[0;34m)\u001b[0m\u001b[0;34m)\u001b[0m\u001b[0;34m\u001b[0m\u001b[0;34m\u001b[0m\u001b[0m\n\u001b[0m\u001b[1;32m     10\u001b[0m \u001b[0;34m\u001b[0m\u001b[0m\n\u001b[1;32m     11\u001b[0m \u001b[0;31m## write a code to reinstall the packages with the correct version\u001b[0m\u001b[0;34m\u001b[0m\u001b[0;34m\u001b[0m\u001b[0;34m\u001b[0m\u001b[0m\n",
      "\u001b[0;31mRuntimeError\u001b[0m: command '['/opt/conda/envs/thesisEnv4/bin/python', '-m', 'pip', 'install', 'takemetochurch']' return with error (code 1): None"
     ]
    }
   ],
   "source": [
    "import subprocess\n",
    "import sys\n",
    "\n",
    "def install(package,version):\n",
    "    try:\n",
    "        subprocess.check_call([sys.executable, \"-m\", \"pip\", \"install\", package])\n",
    "    \n",
    "    except subprocess.CalledProcessError as e:\n",
    "        raise RuntimeError(\"command '{}' return with error (code {}): {}\".format(e.cmd, e.returncode, e.output))\n",
    "\n",
    "## write a code to reinstall the packages with the correct version\n",
    "print(\"Reinstalling....\")\n",
    "\n",
    "for i in conflictingPackages:\n",
    "    print(\" %-s version %-s\"%((i[0],i[1])))\n",
    "    createCondaCommand = \"conda install \"+i[0]+\"=\"+i[1]\n",
    "    createPipCommand = \"python3 -m pip install \"+i[0]+\"=\"+i[1]\n",
    "    #os.system('ls -l')\n",
    "    install(i[0],i[1])\n",
    "    "
   ]
  },
  {
   "cell_type": "code",
   "execution_count": 55,
   "metadata": {},
   "outputs": [
    {
     "name": "stdout",
     "output_type": "stream",
     "text": [
      "numpy==1.20.3\n"
     ]
    }
   ],
   "source": [
    "## write code to remove the packages which are found extra on the local machine.abs\n",
    "!pip freeze | grep numpy"
   ]
  },
  {
   "cell_type": "markdown",
   "metadata": {},
   "source": [
    "# Closing files"
   ]
  },
  {
   "cell_type": "code",
   "execution_count": null,
   "metadata": {},
   "outputs": [],
   "source": [
    "f1.close()                                       \n",
    "f2.close()"
   ]
  }
 ],
 "metadata": {
  "interpreter": {
   "hash": "9df7c604b6c0945d671bf73d32628a295b962e76390998e96a9638c77a0296d9"
  },
  "kernelspec": {
   "display_name": "Python 3.8.8 64-bit ('thesisEnv4': conda)",
   "name": "python3"
  },
  "language_info": {
   "codemirror_mode": {
    "name": "ipython",
    "version": 3
   },
   "file_extension": ".py",
   "mimetype": "text/x-python",
   "name": "python",
   "nbconvert_exporter": "python",
   "pygments_lexer": "ipython3",
   "version": "3.8.8"
  },
  "orig_nbformat": 4
 },
 "nbformat": 4,
 "nbformat_minor": 2
}